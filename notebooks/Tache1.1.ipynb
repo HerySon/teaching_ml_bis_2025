{
 "cells": [
  {
   "cell_type": "code",
   "execution_count": null,
   "id": "4eb87d1a-c23b-492f-bd57-394305bcc6c7",
   "metadata": {},
   "outputs": [],
   "source": [
    "# Encoder les features non numériques"
   ]
  },
  {
   "cell_type": "code",
   "execution_count": 1,
   "id": "ba14aa4e-18f9-4e84-a260-09bac3f1bf6f",
   "metadata": {},
   "outputs": [
    {
     "ename": "NameError",
     "evalue": "name 'pd' is not defined",
     "output_type": "error",
     "traceback": [
      "\u001b[0;31m---------------------------------------------------------------------------\u001b[0m",
      "\u001b[0;31mNameError\u001b[0m                                 Traceback (most recent call last)",
      "Cell \u001b[0;32mIn[1], line 1\u001b[0m\n\u001b[0;32m----> 1\u001b[0m codes, uniques \u001b[38;5;241m=\u001b[39m \u001b[43mpd\u001b[49m\u001b[38;5;241m.\u001b[39mfactorize(df[\u001b[38;5;124m'\u001b[39m\u001b[38;5;124mcol\u001b[39m\u001b[38;5;124m'\u001b[39m])\n\u001b[1;32m      2\u001b[0m df[\u001b[38;5;124m'\u001b[39m\u001b[38;5;124mcol\u001b[39m\u001b[38;5;124m'\u001b[39m] \u001b[38;5;241m=\u001b[39m codes\n",
      "\u001b[0;31mNameError\u001b[0m: name 'pd' is not defined"
     ]
    }
   ],
   "source": [
    "codes, uniques = pd.factorize(df['col'])\n",
    "df['col'] = codes"
   ]
  },
  {
   "cell_type": "code",
   "execution_count": null,
   "id": "fb71be80-f0d5-483d-8c99-c992a8650c0c",
   "metadata": {},
   "outputs": [],
   "source": [
    "Voir teams sur PC Boulot "
   ]
  }
 ],
 "metadata": {
  "kernelspec": {
   "display_name": "Python 3 (ipykernel)",
   "language": "python",
   "name": "python3"
  },
  "language_info": {
   "codemirror_mode": {
    "name": "ipython",
    "version": 3
   },
   "file_extension": ".py",
   "mimetype": "text/x-python",
   "name": "python",
   "nbconvert_exporter": "python",
   "pygments_lexer": "ipython3",
   "version": "3.11.0"
  }
 },
 "nbformat": 4,
 "nbformat_minor": 5
}
