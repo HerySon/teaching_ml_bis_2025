{
 "cells": [
  {
   "cell_type": "markdown",
   "id": "5c267976-1974-4d3e-bbf5-e130b5846474",
   "metadata": {},
   "source": [
    "# Encoder les features non numériques (4.5points)"
   ]
  },
  {
   "cell_type": "markdown",
   "id": "a4d0448e-53e5-436c-91ee-2ce651d12a32",
   "metadata": {},
   "source": [
    "# Résumé : \n",
    "- 1°) Chargement des données \n",
    "- 2°) Comprendre les données\n",
    "- 3°) Filtrage par colonne\n",
    "    - 3.1°) Filtrage en fonction des valeurs manquantes\n",
    "    - 3.2°) Filtrage en fonction des valeurs uniques\n",
    "    - 3.3°) Filtrage en selectionnant qu'une seule ou plusieurs colonnes\n",
    "    - 3.4°) Filtrage en selectionnant qu'un seul type de varibale (datatype)\n",
    "- 4°) Filtrage par ligne \n",
    "    - 4.1°) Filtrage en fonction des valeurs manquantes\n",
    "    - 4.2°) Filtrage en fonction d'une colonne donnée et d'une valeur donnée\n",
    "    - 4.3°) Filtrage en fonction d'un manque d'une valeur indispensable pour les analyses de données"
   ]
  },
  {
   "cell_type": "markdown",
   "id": "202d5523-0451-4cce-b3ba-66083132c183",
   "metadata": {},
   "source": [
    "# 1°) Chargement des données"
   ]
  },
  {
   "cell_type": "code",
   "execution_count": 1,
   "id": "4e1aa15e-ea81-46f8-be25-3ed57f538290",
   "metadata": {},
   "outputs": [],
   "source": [
    "# Import des librairies dont on a besoin\n",
    "import pandas as pd"
   ]
  },
  {
   "cell_type": "code",
   "execution_count": 2,
   "id": "0aed3908-0fbc-4c5d-86ee-f40492ac7cf3",
   "metadata": {},
   "outputs": [],
   "source": [
    "# Récuération du dataset\n",
    "path = \"../data/en.openfoodfacts.org.products.csv\"\n",
    "\n",
    "# On récupère des échantillons de 100 lignes parmi notre population globale de produits.\n",
    "# Il est possible d'ajuster le paramètre `nrows` selon s'il y a besoin d'augmenter la volumétrie de l'échantillon.\n",
    "df = pd.read_csv(path, nrows=100, sep='\\t',encoding=\"utf-8\", parse_dates=True)"
   ]
  },
  {
   "cell_type": "code",
   "execution_count": 3,
   "id": "17717db0-520d-48e6-b078-2dcbb37ccdf6",
   "metadata": {},
   "outputs": [
    {
     "data": {
      "text/html": [
       "<div>\n",
       "<style scoped>\n",
       "    .dataframe tbody tr th:only-of-type {\n",
       "        vertical-align: middle;\n",
       "    }\n",
       "\n",
       "    .dataframe tbody tr th {\n",
       "        vertical-align: top;\n",
       "    }\n",
       "\n",
       "    .dataframe thead th {\n",
       "        text-align: right;\n",
       "    }\n",
       "</style>\n",
       "<table border=\"1\" class=\"dataframe\">\n",
       "  <thead>\n",
       "    <tr style=\"text-align: right;\">\n",
       "      <th></th>\n",
       "      <th>code</th>\n",
       "      <th>url</th>\n",
       "      <th>creator</th>\n",
       "      <th>created_t</th>\n",
       "      <th>created_datetime</th>\n",
       "      <th>last_modified_t</th>\n",
       "      <th>last_modified_datetime</th>\n",
       "      <th>last_modified_by</th>\n",
       "      <th>last_updated_t</th>\n",
       "      <th>last_updated_datetime</th>\n",
       "      <th>...</th>\n",
       "      <th>glycemic-index_100g</th>\n",
       "      <th>water-hardness_100g</th>\n",
       "      <th>choline_100g</th>\n",
       "      <th>phylloquinone_100g</th>\n",
       "      <th>beta-glucan_100g</th>\n",
       "      <th>inositol_100g</th>\n",
       "      <th>carnitine_100g</th>\n",
       "      <th>sulphate_100g</th>\n",
       "      <th>nitrate_100g</th>\n",
       "      <th>acidity_100g</th>\n",
       "    </tr>\n",
       "  </thead>\n",
       "  <tbody>\n",
       "    <tr>\n",
       "      <th>0</th>\n",
       "      <td>54</td>\n",
       "      <td>http://world-en.openfoodfacts.org/product/0000...</td>\n",
       "      <td>kiliweb</td>\n",
       "      <td>1582569031</td>\n",
       "      <td>2020-02-24T18:30:31Z</td>\n",
       "      <td>1733085204</td>\n",
       "      <td>2024-12-01T20:33:24Z</td>\n",
       "      <td>NaN</td>\n",
       "      <td>1738849326</td>\n",
       "      <td>2025-02-06T13:42:06Z</td>\n",
       "      <td>...</td>\n",
       "      <td>NaN</td>\n",
       "      <td>NaN</td>\n",
       "      <td>NaN</td>\n",
       "      <td>NaN</td>\n",
       "      <td>NaN</td>\n",
       "      <td>NaN</td>\n",
       "      <td>NaN</td>\n",
       "      <td>NaN</td>\n",
       "      <td>NaN</td>\n",
       "      <td>NaN</td>\n",
       "    </tr>\n",
       "    <tr>\n",
       "      <th>1</th>\n",
       "      <td>63</td>\n",
       "      <td>http://world-en.openfoodfacts.org/product/0000...</td>\n",
       "      <td>kiliweb</td>\n",
       "      <td>1673620307</td>\n",
       "      <td>2023-01-13T14:31:47Z</td>\n",
       "      <td>1732913331</td>\n",
       "      <td>2024-11-29T20:48:51Z</td>\n",
       "      <td>insectproductadd</td>\n",
       "      <td>1738849275</td>\n",
       "      <td>2025-02-06T13:41:15Z</td>\n",
       "      <td>...</td>\n",
       "      <td>NaN</td>\n",
       "      <td>NaN</td>\n",
       "      <td>NaN</td>\n",
       "      <td>NaN</td>\n",
       "      <td>NaN</td>\n",
       "      <td>NaN</td>\n",
       "      <td>NaN</td>\n",
       "      <td>NaN</td>\n",
       "      <td>NaN</td>\n",
       "      <td>NaN</td>\n",
       "    </tr>\n",
       "    <tr>\n",
       "      <th>2</th>\n",
       "      <td>114</td>\n",
       "      <td>http://world-en.openfoodfacts.org/product/0000...</td>\n",
       "      <td>kiliweb</td>\n",
       "      <td>1580066482</td>\n",
       "      <td>2020-01-26T19:21:22Z</td>\n",
       "      <td>1737247862</td>\n",
       "      <td>2025-01-19T00:51:02Z</td>\n",
       "      <td>smoothie-app</td>\n",
       "      <td>1738687801</td>\n",
       "      <td>2025-02-04T16:50:01Z</td>\n",
       "      <td>...</td>\n",
       "      <td>NaN</td>\n",
       "      <td>NaN</td>\n",
       "      <td>NaN</td>\n",
       "      <td>NaN</td>\n",
       "      <td>NaN</td>\n",
       "      <td>NaN</td>\n",
       "      <td>NaN</td>\n",
       "      <td>NaN</td>\n",
       "      <td>NaN</td>\n",
       "      <td>NaN</td>\n",
       "    </tr>\n",
       "    <tr>\n",
       "      <th>3</th>\n",
       "      <td>1</td>\n",
       "      <td>http://world-en.openfoodfacts.org/product/0000...</td>\n",
       "      <td>inf</td>\n",
       "      <td>1634745456</td>\n",
       "      <td>2021-10-20T15:57:36Z</td>\n",
       "      <td>1738676541</td>\n",
       "      <td>2025-02-04T13:42:21Z</td>\n",
       "      <td>waistline-app</td>\n",
       "      <td>1738848139</td>\n",
       "      <td>2025-02-06T13:22:19Z</td>\n",
       "      <td>...</td>\n",
       "      <td>NaN</td>\n",
       "      <td>NaN</td>\n",
       "      <td>NaN</td>\n",
       "      <td>NaN</td>\n",
       "      <td>NaN</td>\n",
       "      <td>NaN</td>\n",
       "      <td>NaN</td>\n",
       "      <td>NaN</td>\n",
       "      <td>NaN</td>\n",
       "      <td>NaN</td>\n",
       "    </tr>\n",
       "    <tr>\n",
       "      <th>4</th>\n",
       "      <td>105</td>\n",
       "      <td>http://world-en.openfoodfacts.org/product/0000...</td>\n",
       "      <td>kiliweb</td>\n",
       "      <td>1572117743</td>\n",
       "      <td>2019-10-26T19:22:23Z</td>\n",
       "      <td>1738073570</td>\n",
       "      <td>2025-01-28T14:12:50Z</td>\n",
       "      <td>NaN</td>\n",
       "      <td>1738850683</td>\n",
       "      <td>2025-02-06T14:04:43Z</td>\n",
       "      <td>...</td>\n",
       "      <td>NaN</td>\n",
       "      <td>NaN</td>\n",
       "      <td>NaN</td>\n",
       "      <td>NaN</td>\n",
       "      <td>NaN</td>\n",
       "      <td>NaN</td>\n",
       "      <td>NaN</td>\n",
       "      <td>NaN</td>\n",
       "      <td>NaN</td>\n",
       "      <td>NaN</td>\n",
       "    </tr>\n",
       "    <tr>\n",
       "      <th>...</th>\n",
       "      <td>...</td>\n",
       "      <td>...</td>\n",
       "      <td>...</td>\n",
       "      <td>...</td>\n",
       "      <td>...</td>\n",
       "      <td>...</td>\n",
       "      <td>...</td>\n",
       "      <td>...</td>\n",
       "      <td>...</td>\n",
       "      <td>...</td>\n",
       "      <td>...</td>\n",
       "      <td>...</td>\n",
       "      <td>...</td>\n",
       "      <td>...</td>\n",
       "      <td>...</td>\n",
       "      <td>...</td>\n",
       "      <td>...</td>\n",
       "      <td>...</td>\n",
       "      <td>...</td>\n",
       "      <td>...</td>\n",
       "      <td>...</td>\n",
       "    </tr>\n",
       "    <tr>\n",
       "      <th>95</th>\n",
       "      <td>91</td>\n",
       "      <td>http://world-en.openfoodfacts.org/product/0000...</td>\n",
       "      <td>openfoodfacts-contributors</td>\n",
       "      <td>1536994879</td>\n",
       "      <td>2018-09-15T07:01:19Z</td>\n",
       "      <td>1729528185</td>\n",
       "      <td>2024-10-21T16:29:45Z</td>\n",
       "      <td>roboto-app</td>\n",
       "      <td>1738846636</td>\n",
       "      <td>2025-02-06T12:57:16Z</td>\n",
       "      <td>...</td>\n",
       "      <td>NaN</td>\n",
       "      <td>NaN</td>\n",
       "      <td>NaN</td>\n",
       "      <td>NaN</td>\n",
       "      <td>NaN</td>\n",
       "      <td>NaN</td>\n",
       "      <td>NaN</td>\n",
       "      <td>NaN</td>\n",
       "      <td>NaN</td>\n",
       "      <td>NaN</td>\n",
       "    </tr>\n",
       "    <tr>\n",
       "      <th>96</th>\n",
       "      <td>92</td>\n",
       "      <td>http://world-en.openfoodfacts.org/product/0000...</td>\n",
       "      <td>product-scan-com</td>\n",
       "      <td>1638580447</td>\n",
       "      <td>2021-12-04T01:14:07Z</td>\n",
       "      <td>1728651371</td>\n",
       "      <td>2024-10-11T12:56:11Z</td>\n",
       "      <td>fix-code-bot</td>\n",
       "      <td>1738851418</td>\n",
       "      <td>2025-02-06T14:16:58Z</td>\n",
       "      <td>...</td>\n",
       "      <td>NaN</td>\n",
       "      <td>NaN</td>\n",
       "      <td>NaN</td>\n",
       "      <td>NaN</td>\n",
       "      <td>NaN</td>\n",
       "      <td>NaN</td>\n",
       "      <td>NaN</td>\n",
       "      <td>NaN</td>\n",
       "      <td>NaN</td>\n",
       "      <td>NaN</td>\n",
       "    </tr>\n",
       "    <tr>\n",
       "      <th>97</th>\n",
       "      <td>93</td>\n",
       "      <td>http://world-en.openfoodfacts.org/product/0000...</td>\n",
       "      <td>openfoodfacts-contributors</td>\n",
       "      <td>1537041112</td>\n",
       "      <td>2018-09-15T19:51:52Z</td>\n",
       "      <td>1728236141</td>\n",
       "      <td>2024-10-06T17:35:41Z</td>\n",
       "      <td>macrofactor</td>\n",
       "      <td>1738831971</td>\n",
       "      <td>2025-02-06T08:52:51Z</td>\n",
       "      <td>...</td>\n",
       "      <td>NaN</td>\n",
       "      <td>NaN</td>\n",
       "      <td>NaN</td>\n",
       "      <td>NaN</td>\n",
       "      <td>NaN</td>\n",
       "      <td>NaN</td>\n",
       "      <td>NaN</td>\n",
       "      <td>NaN</td>\n",
       "      <td>NaN</td>\n",
       "      <td>NaN</td>\n",
       "    </tr>\n",
       "    <tr>\n",
       "      <th>98</th>\n",
       "      <td>94</td>\n",
       "      <td>http://world-en.openfoodfacts.org/product/0000...</td>\n",
       "      <td>openfoodfacts-contributors</td>\n",
       "      <td>1572449868</td>\n",
       "      <td>2019-10-30T15:37:48Z</td>\n",
       "      <td>1728034902</td>\n",
       "      <td>2024-10-04T09:41:42Z</td>\n",
       "      <td>fix-code-bot</td>\n",
       "      <td>1737510101</td>\n",
       "      <td>2025-01-22T01:41:41Z</td>\n",
       "      <td>...</td>\n",
       "      <td>NaN</td>\n",
       "      <td>NaN</td>\n",
       "      <td>NaN</td>\n",
       "      <td>NaN</td>\n",
       "      <td>NaN</td>\n",
       "      <td>NaN</td>\n",
       "      <td>NaN</td>\n",
       "      <td>NaN</td>\n",
       "      <td>NaN</td>\n",
       "      <td>NaN</td>\n",
       "    </tr>\n",
       "    <tr>\n",
       "      <th>99</th>\n",
       "      <td>95</td>\n",
       "      <td>http://world-en.openfoodfacts.org/product/0000...</td>\n",
       "      <td>openfoodfacts-contributors</td>\n",
       "      <td>1570059652</td>\n",
       "      <td>2019-10-02T23:40:52Z</td>\n",
       "      <td>1733673152</td>\n",
       "      <td>2024-12-08T15:52:32Z</td>\n",
       "      <td>maldan</td>\n",
       "      <td>1738846636</td>\n",
       "      <td>2025-02-06T12:57:16Z</td>\n",
       "      <td>...</td>\n",
       "      <td>NaN</td>\n",
       "      <td>NaN</td>\n",
       "      <td>NaN</td>\n",
       "      <td>NaN</td>\n",
       "      <td>NaN</td>\n",
       "      <td>NaN</td>\n",
       "      <td>NaN</td>\n",
       "      <td>NaN</td>\n",
       "      <td>NaN</td>\n",
       "      <td>NaN</td>\n",
       "    </tr>\n",
       "  </tbody>\n",
       "</table>\n",
       "<p>100 rows × 206 columns</p>\n",
       "</div>"
      ],
      "text/plain": [
       "    code                                                url  \\\n",
       "0     54  http://world-en.openfoodfacts.org/product/0000...   \n",
       "1     63  http://world-en.openfoodfacts.org/product/0000...   \n",
       "2    114  http://world-en.openfoodfacts.org/product/0000...   \n",
       "3      1  http://world-en.openfoodfacts.org/product/0000...   \n",
       "4    105  http://world-en.openfoodfacts.org/product/0000...   \n",
       "..   ...                                                ...   \n",
       "95    91  http://world-en.openfoodfacts.org/product/0000...   \n",
       "96    92  http://world-en.openfoodfacts.org/product/0000...   \n",
       "97    93  http://world-en.openfoodfacts.org/product/0000...   \n",
       "98    94  http://world-en.openfoodfacts.org/product/0000...   \n",
       "99    95  http://world-en.openfoodfacts.org/product/0000...   \n",
       "\n",
       "                       creator   created_t      created_datetime  \\\n",
       "0                      kiliweb  1582569031  2020-02-24T18:30:31Z   \n",
       "1                      kiliweb  1673620307  2023-01-13T14:31:47Z   \n",
       "2                      kiliweb  1580066482  2020-01-26T19:21:22Z   \n",
       "3                          inf  1634745456  2021-10-20T15:57:36Z   \n",
       "4                      kiliweb  1572117743  2019-10-26T19:22:23Z   \n",
       "..                         ...         ...                   ...   \n",
       "95  openfoodfacts-contributors  1536994879  2018-09-15T07:01:19Z   \n",
       "96            product-scan-com  1638580447  2021-12-04T01:14:07Z   \n",
       "97  openfoodfacts-contributors  1537041112  2018-09-15T19:51:52Z   \n",
       "98  openfoodfacts-contributors  1572449868  2019-10-30T15:37:48Z   \n",
       "99  openfoodfacts-contributors  1570059652  2019-10-02T23:40:52Z   \n",
       "\n",
       "    last_modified_t last_modified_datetime  last_modified_by  last_updated_t  \\\n",
       "0        1733085204   2024-12-01T20:33:24Z               NaN      1738849326   \n",
       "1        1732913331   2024-11-29T20:48:51Z  insectproductadd      1738849275   \n",
       "2        1737247862   2025-01-19T00:51:02Z      smoothie-app      1738687801   \n",
       "3        1738676541   2025-02-04T13:42:21Z     waistline-app      1738848139   \n",
       "4        1738073570   2025-01-28T14:12:50Z               NaN      1738850683   \n",
       "..              ...                    ...               ...             ...   \n",
       "95       1729528185   2024-10-21T16:29:45Z        roboto-app      1738846636   \n",
       "96       1728651371   2024-10-11T12:56:11Z      fix-code-bot      1738851418   \n",
       "97       1728236141   2024-10-06T17:35:41Z       macrofactor      1738831971   \n",
       "98       1728034902   2024-10-04T09:41:42Z      fix-code-bot      1737510101   \n",
       "99       1733673152   2024-12-08T15:52:32Z            maldan      1738846636   \n",
       "\n",
       "   last_updated_datetime  ... glycemic-index_100g  water-hardness_100g  \\\n",
       "0   2025-02-06T13:42:06Z  ...                 NaN                  NaN   \n",
       "1   2025-02-06T13:41:15Z  ...                 NaN                  NaN   \n",
       "2   2025-02-04T16:50:01Z  ...                 NaN                  NaN   \n",
       "3   2025-02-06T13:22:19Z  ...                 NaN                  NaN   \n",
       "4   2025-02-06T14:04:43Z  ...                 NaN                  NaN   \n",
       "..                   ...  ...                 ...                  ...   \n",
       "95  2025-02-06T12:57:16Z  ...                 NaN                  NaN   \n",
       "96  2025-02-06T14:16:58Z  ...                 NaN                  NaN   \n",
       "97  2025-02-06T08:52:51Z  ...                 NaN                  NaN   \n",
       "98  2025-01-22T01:41:41Z  ...                 NaN                  NaN   \n",
       "99  2025-02-06T12:57:16Z  ...                 NaN                  NaN   \n",
       "\n",
       "   choline_100g phylloquinone_100g beta-glucan_100g inositol_100g  \\\n",
       "0           NaN                NaN              NaN           NaN   \n",
       "1           NaN                NaN              NaN           NaN   \n",
       "2           NaN                NaN              NaN           NaN   \n",
       "3           NaN                NaN              NaN           NaN   \n",
       "4           NaN                NaN              NaN           NaN   \n",
       "..          ...                ...              ...           ...   \n",
       "95          NaN                NaN              NaN           NaN   \n",
       "96          NaN                NaN              NaN           NaN   \n",
       "97          NaN                NaN              NaN           NaN   \n",
       "98          NaN                NaN              NaN           NaN   \n",
       "99          NaN                NaN              NaN           NaN   \n",
       "\n",
       "   carnitine_100g  sulphate_100g nitrate_100g acidity_100g  \n",
       "0             NaN            NaN          NaN          NaN  \n",
       "1             NaN            NaN          NaN          NaN  \n",
       "2             NaN            NaN          NaN          NaN  \n",
       "3             NaN            NaN          NaN          NaN  \n",
       "4             NaN            NaN          NaN          NaN  \n",
       "..            ...            ...          ...          ...  \n",
       "95            NaN            NaN          NaN          NaN  \n",
       "96            NaN            NaN          NaN          NaN  \n",
       "97            NaN            NaN          NaN          NaN  \n",
       "98            NaN            NaN          NaN          NaN  \n",
       "99            NaN            NaN          NaN          NaN  \n",
       "\n",
       "[100 rows x 206 columns]"
      ]
     },
     "execution_count": 3,
     "metadata": {},
     "output_type": "execute_result"
    }
   ],
   "source": [
    "# Affichage de l'échantillon obtenu\n",
    "df"
   ]
  },
  {
   "cell_type": "markdown",
   "id": "db98ba58-3a36-4bd7-8dec-0f53036cdb7e",
   "metadata": {},
   "source": [
    "# 2°) Analyse et Préparation des données "
   ]
  },
  {
   "cell_type": "markdown",
   "id": "6bdf23e7-dcd5-4dff-b6bf-19c7b779a517",
   "metadata": {},
   "source": [
    "Avant de faire l'encodage, il est important de vérifier plusieurs éléments :\n",
    "- La proportion de valeurs manquantes dans les colonnes de notre dataset.\n",
    "- Le nombre de modalités uniques par feature (cardinalité).\n",
    "- La distribution des valeurs pour détecter d'éventuels déséquilibres."
   ]
  },
  {
   "cell_type": "markdown",
   "id": "e860965a-3807-4758-bda9-e2b73af9f0f3",
   "metadata": {},
   "source": [
    "### 2.1°) La proportion de valeurs manquantes dans les colonnes de notre dataset."
   ]
  },
  {
   "cell_type": "code",
   "execution_count": 4,
   "id": "854a2387-ab1c-4b79-ae23-dae71bd58333",
   "metadata": {},
   "outputs": [
    {
     "data": {
      "text/html": [
       "<div>\n",
       "<style scoped>\n",
       "    .dataframe tbody tr th:only-of-type {\n",
       "        vertical-align: middle;\n",
       "    }\n",
       "\n",
       "    .dataframe tbody tr th {\n",
       "        vertical-align: top;\n",
       "    }\n",
       "\n",
       "    .dataframe thead th {\n",
       "        text-align: right;\n",
       "    }\n",
       "</style>\n",
       "<table border=\"1\" class=\"dataframe\">\n",
       "  <thead>\n",
       "    <tr style=\"text-align: right;\">\n",
       "      <th></th>\n",
       "      <th>code</th>\n",
       "      <th>url</th>\n",
       "      <th>creator</th>\n",
       "      <th>created_t</th>\n",
       "      <th>created_datetime</th>\n",
       "      <th>last_modified_t</th>\n",
       "      <th>last_modified_datetime</th>\n",
       "      <th>last_modified_by</th>\n",
       "      <th>last_updated_t</th>\n",
       "      <th>last_updated_datetime</th>\n",
       "      <th>...</th>\n",
       "      <th>energy_100g</th>\n",
       "      <th>fat_100g</th>\n",
       "      <th>saturated-fat_100g</th>\n",
       "      <th>carbohydrates_100g</th>\n",
       "      <th>sugars_100g</th>\n",
       "      <th>fiber_100g</th>\n",
       "      <th>proteins_100g</th>\n",
       "      <th>salt_100g</th>\n",
       "      <th>sodium_100g</th>\n",
       "      <th>fruits-vegetables-nuts-estimate-from-ingredients_100g</th>\n",
       "    </tr>\n",
       "  </thead>\n",
       "  <tbody>\n",
       "    <tr>\n",
       "      <th>0</th>\n",
       "      <td>54</td>\n",
       "      <td>http://world-en.openfoodfacts.org/product/0000...</td>\n",
       "      <td>kiliweb</td>\n",
       "      <td>1582569031</td>\n",
       "      <td>2020-02-24T18:30:31Z</td>\n",
       "      <td>1733085204</td>\n",
       "      <td>2024-12-01T20:33:24Z</td>\n",
       "      <td>NaN</td>\n",
       "      <td>1738849326</td>\n",
       "      <td>2025-02-06T13:42:06Z</td>\n",
       "      <td>...</td>\n",
       "      <td>NaN</td>\n",
       "      <td>NaN</td>\n",
       "      <td>NaN</td>\n",
       "      <td>NaN</td>\n",
       "      <td>NaN</td>\n",
       "      <td>NaN</td>\n",
       "      <td>NaN</td>\n",
       "      <td>NaN</td>\n",
       "      <td>NaN</td>\n",
       "      <td>NaN</td>\n",
       "    </tr>\n",
       "    <tr>\n",
       "      <th>1</th>\n",
       "      <td>63</td>\n",
       "      <td>http://world-en.openfoodfacts.org/product/0000...</td>\n",
       "      <td>kiliweb</td>\n",
       "      <td>1673620307</td>\n",
       "      <td>2023-01-13T14:31:47Z</td>\n",
       "      <td>1732913331</td>\n",
       "      <td>2024-11-29T20:48:51Z</td>\n",
       "      <td>insectproductadd</td>\n",
       "      <td>1738849275</td>\n",
       "      <td>2025-02-06T13:41:15Z</td>\n",
       "      <td>...</td>\n",
       "      <td>NaN</td>\n",
       "      <td>NaN</td>\n",
       "      <td>NaN</td>\n",
       "      <td>NaN</td>\n",
       "      <td>NaN</td>\n",
       "      <td>NaN</td>\n",
       "      <td>NaN</td>\n",
       "      <td>NaN</td>\n",
       "      <td>NaN</td>\n",
       "      <td>0.000000</td>\n",
       "    </tr>\n",
       "    <tr>\n",
       "      <th>2</th>\n",
       "      <td>114</td>\n",
       "      <td>http://world-en.openfoodfacts.org/product/0000...</td>\n",
       "      <td>kiliweb</td>\n",
       "      <td>1580066482</td>\n",
       "      <td>2020-01-26T19:21:22Z</td>\n",
       "      <td>1737247862</td>\n",
       "      <td>2025-01-19T00:51:02Z</td>\n",
       "      <td>smoothie-app</td>\n",
       "      <td>1738687801</td>\n",
       "      <td>2025-02-04T16:50:01Z</td>\n",
       "      <td>...</td>\n",
       "      <td>2415.0</td>\n",
       "      <td>44.0</td>\n",
       "      <td>28.0</td>\n",
       "      <td>30.0</td>\n",
       "      <td>27.0</td>\n",
       "      <td>NaN</td>\n",
       "      <td>7.1</td>\n",
       "      <td>0.025</td>\n",
       "      <td>0.010</td>\n",
       "      <td>NaN</td>\n",
       "    </tr>\n",
       "    <tr>\n",
       "      <th>3</th>\n",
       "      <td>1</td>\n",
       "      <td>http://world-en.openfoodfacts.org/product/0000...</td>\n",
       "      <td>inf</td>\n",
       "      <td>1634745456</td>\n",
       "      <td>2021-10-20T15:57:36Z</td>\n",
       "      <td>1738676541</td>\n",
       "      <td>2025-02-04T13:42:21Z</td>\n",
       "      <td>waistline-app</td>\n",
       "      <td>1738848139</td>\n",
       "      <td>2025-02-06T13:22:19Z</td>\n",
       "      <td>...</td>\n",
       "      <td>874.0</td>\n",
       "      <td>6.0</td>\n",
       "      <td>1.0</td>\n",
       "      <td>21.4</td>\n",
       "      <td>11.1</td>\n",
       "      <td>2.0</td>\n",
       "      <td>11.2</td>\n",
       "      <td>11.800</td>\n",
       "      <td>4.720</td>\n",
       "      <td>100.000000</td>\n",
       "    </tr>\n",
       "    <tr>\n",
       "      <th>4</th>\n",
       "      <td>105</td>\n",
       "      <td>http://world-en.openfoodfacts.org/product/0000...</td>\n",
       "      <td>kiliweb</td>\n",
       "      <td>1572117743</td>\n",
       "      <td>2019-10-26T19:22:23Z</td>\n",
       "      <td>1738073570</td>\n",
       "      <td>2025-01-28T14:12:50Z</td>\n",
       "      <td>NaN</td>\n",
       "      <td>1738850683</td>\n",
       "      <td>2025-02-06T14:04:43Z</td>\n",
       "      <td>...</td>\n",
       "      <td>NaN</td>\n",
       "      <td>NaN</td>\n",
       "      <td>NaN</td>\n",
       "      <td>NaN</td>\n",
       "      <td>NaN</td>\n",
       "      <td>NaN</td>\n",
       "      <td>NaN</td>\n",
       "      <td>NaN</td>\n",
       "      <td>NaN</td>\n",
       "      <td>0.011335</td>\n",
       "    </tr>\n",
       "    <tr>\n",
       "      <th>...</th>\n",
       "      <td>...</td>\n",
       "      <td>...</td>\n",
       "      <td>...</td>\n",
       "      <td>...</td>\n",
       "      <td>...</td>\n",
       "      <td>...</td>\n",
       "      <td>...</td>\n",
       "      <td>...</td>\n",
       "      <td>...</td>\n",
       "      <td>...</td>\n",
       "      <td>...</td>\n",
       "      <td>...</td>\n",
       "      <td>...</td>\n",
       "      <td>...</td>\n",
       "      <td>...</td>\n",
       "      <td>...</td>\n",
       "      <td>...</td>\n",
       "      <td>...</td>\n",
       "      <td>...</td>\n",
       "      <td>...</td>\n",
       "      <td>...</td>\n",
       "    </tr>\n",
       "    <tr>\n",
       "      <th>95</th>\n",
       "      <td>91</td>\n",
       "      <td>http://world-en.openfoodfacts.org/product/0000...</td>\n",
       "      <td>openfoodfacts-contributors</td>\n",
       "      <td>1536994879</td>\n",
       "      <td>2018-09-15T07:01:19Z</td>\n",
       "      <td>1729528185</td>\n",
       "      <td>2024-10-21T16:29:45Z</td>\n",
       "      <td>roboto-app</td>\n",
       "      <td>1738846636</td>\n",
       "      <td>2025-02-06T12:57:16Z</td>\n",
       "      <td>...</td>\n",
       "      <td>NaN</td>\n",
       "      <td>NaN</td>\n",
       "      <td>NaN</td>\n",
       "      <td>NaN</td>\n",
       "      <td>NaN</td>\n",
       "      <td>NaN</td>\n",
       "      <td>NaN</td>\n",
       "      <td>NaN</td>\n",
       "      <td>NaN</td>\n",
       "      <td>NaN</td>\n",
       "    </tr>\n",
       "    <tr>\n",
       "      <th>96</th>\n",
       "      <td>92</td>\n",
       "      <td>http://world-en.openfoodfacts.org/product/0000...</td>\n",
       "      <td>product-scan-com</td>\n",
       "      <td>1638580447</td>\n",
       "      <td>2021-12-04T01:14:07Z</td>\n",
       "      <td>1728651371</td>\n",
       "      <td>2024-10-11T12:56:11Z</td>\n",
       "      <td>fix-code-bot</td>\n",
       "      <td>1738851418</td>\n",
       "      <td>2025-02-06T14:16:58Z</td>\n",
       "      <td>...</td>\n",
       "      <td>NaN</td>\n",
       "      <td>NaN</td>\n",
       "      <td>NaN</td>\n",
       "      <td>NaN</td>\n",
       "      <td>NaN</td>\n",
       "      <td>NaN</td>\n",
       "      <td>NaN</td>\n",
       "      <td>NaN</td>\n",
       "      <td>NaN</td>\n",
       "      <td>NaN</td>\n",
       "    </tr>\n",
       "    <tr>\n",
       "      <th>97</th>\n",
       "      <td>93</td>\n",
       "      <td>http://world-en.openfoodfacts.org/product/0000...</td>\n",
       "      <td>openfoodfacts-contributors</td>\n",
       "      <td>1537041112</td>\n",
       "      <td>2018-09-15T19:51:52Z</td>\n",
       "      <td>1728236141</td>\n",
       "      <td>2024-10-06T17:35:41Z</td>\n",
       "      <td>macrofactor</td>\n",
       "      <td>1738831971</td>\n",
       "      <td>2025-02-06T08:52:51Z</td>\n",
       "      <td>...</td>\n",
       "      <td>1134.0</td>\n",
       "      <td>5.8</td>\n",
       "      <td>3.1</td>\n",
       "      <td>45.0</td>\n",
       "      <td>8.0</td>\n",
       "      <td>NaN</td>\n",
       "      <td>8.9</td>\n",
       "      <td>0.620</td>\n",
       "      <td>0.248</td>\n",
       "      <td>NaN</td>\n",
       "    </tr>\n",
       "    <tr>\n",
       "      <th>98</th>\n",
       "      <td>94</td>\n",
       "      <td>http://world-en.openfoodfacts.org/product/0000...</td>\n",
       "      <td>openfoodfacts-contributors</td>\n",
       "      <td>1572449868</td>\n",
       "      <td>2019-10-30T15:37:48Z</td>\n",
       "      <td>1728034902</td>\n",
       "      <td>2024-10-04T09:41:42Z</td>\n",
       "      <td>fix-code-bot</td>\n",
       "      <td>1737510101</td>\n",
       "      <td>2025-01-22T01:41:41Z</td>\n",
       "      <td>...</td>\n",
       "      <td>NaN</td>\n",
       "      <td>NaN</td>\n",
       "      <td>NaN</td>\n",
       "      <td>NaN</td>\n",
       "      <td>NaN</td>\n",
       "      <td>NaN</td>\n",
       "      <td>NaN</td>\n",
       "      <td>NaN</td>\n",
       "      <td>NaN</td>\n",
       "      <td>NaN</td>\n",
       "    </tr>\n",
       "    <tr>\n",
       "      <th>99</th>\n",
       "      <td>95</td>\n",
       "      <td>http://world-en.openfoodfacts.org/product/0000...</td>\n",
       "      <td>openfoodfacts-contributors</td>\n",
       "      <td>1570059652</td>\n",
       "      <td>2019-10-02T23:40:52Z</td>\n",
       "      <td>1733673152</td>\n",
       "      <td>2024-12-08T15:52:32Z</td>\n",
       "      <td>maldan</td>\n",
       "      <td>1738846636</td>\n",
       "      <td>2025-02-06T12:57:16Z</td>\n",
       "      <td>...</td>\n",
       "      <td>1088.0</td>\n",
       "      <td>3.5</td>\n",
       "      <td>NaN</td>\n",
       "      <td>50.0</td>\n",
       "      <td>NaN</td>\n",
       "      <td>NaN</td>\n",
       "      <td>7.0</td>\n",
       "      <td>NaN</td>\n",
       "      <td>NaN</td>\n",
       "      <td>0.000000</td>\n",
       "    </tr>\n",
       "  </tbody>\n",
       "</table>\n",
       "<p>100 rows × 66 columns</p>\n",
       "</div>"
      ],
      "text/plain": [
       "    code                                                url  \\\n",
       "0     54  http://world-en.openfoodfacts.org/product/0000...   \n",
       "1     63  http://world-en.openfoodfacts.org/product/0000...   \n",
       "2    114  http://world-en.openfoodfacts.org/product/0000...   \n",
       "3      1  http://world-en.openfoodfacts.org/product/0000...   \n",
       "4    105  http://world-en.openfoodfacts.org/product/0000...   \n",
       "..   ...                                                ...   \n",
       "95    91  http://world-en.openfoodfacts.org/product/0000...   \n",
       "96    92  http://world-en.openfoodfacts.org/product/0000...   \n",
       "97    93  http://world-en.openfoodfacts.org/product/0000...   \n",
       "98    94  http://world-en.openfoodfacts.org/product/0000...   \n",
       "99    95  http://world-en.openfoodfacts.org/product/0000...   \n",
       "\n",
       "                       creator   created_t      created_datetime  \\\n",
       "0                      kiliweb  1582569031  2020-02-24T18:30:31Z   \n",
       "1                      kiliweb  1673620307  2023-01-13T14:31:47Z   \n",
       "2                      kiliweb  1580066482  2020-01-26T19:21:22Z   \n",
       "3                          inf  1634745456  2021-10-20T15:57:36Z   \n",
       "4                      kiliweb  1572117743  2019-10-26T19:22:23Z   \n",
       "..                         ...         ...                   ...   \n",
       "95  openfoodfacts-contributors  1536994879  2018-09-15T07:01:19Z   \n",
       "96            product-scan-com  1638580447  2021-12-04T01:14:07Z   \n",
       "97  openfoodfacts-contributors  1537041112  2018-09-15T19:51:52Z   \n",
       "98  openfoodfacts-contributors  1572449868  2019-10-30T15:37:48Z   \n",
       "99  openfoodfacts-contributors  1570059652  2019-10-02T23:40:52Z   \n",
       "\n",
       "    last_modified_t last_modified_datetime  last_modified_by  last_updated_t  \\\n",
       "0        1733085204   2024-12-01T20:33:24Z               NaN      1738849326   \n",
       "1        1732913331   2024-11-29T20:48:51Z  insectproductadd      1738849275   \n",
       "2        1737247862   2025-01-19T00:51:02Z      smoothie-app      1738687801   \n",
       "3        1738676541   2025-02-04T13:42:21Z     waistline-app      1738848139   \n",
       "4        1738073570   2025-01-28T14:12:50Z               NaN      1738850683   \n",
       "..              ...                    ...               ...             ...   \n",
       "95       1729528185   2024-10-21T16:29:45Z        roboto-app      1738846636   \n",
       "96       1728651371   2024-10-11T12:56:11Z      fix-code-bot      1738851418   \n",
       "97       1728236141   2024-10-06T17:35:41Z       macrofactor      1738831971   \n",
       "98       1728034902   2024-10-04T09:41:42Z      fix-code-bot      1737510101   \n",
       "99       1733673152   2024-12-08T15:52:32Z            maldan      1738846636   \n",
       "\n",
       "   last_updated_datetime  ... energy_100g fat_100g saturated-fat_100g  \\\n",
       "0   2025-02-06T13:42:06Z  ...         NaN      NaN                NaN   \n",
       "1   2025-02-06T13:41:15Z  ...         NaN      NaN                NaN   \n",
       "2   2025-02-04T16:50:01Z  ...      2415.0     44.0               28.0   \n",
       "3   2025-02-06T13:22:19Z  ...       874.0      6.0                1.0   \n",
       "4   2025-02-06T14:04:43Z  ...         NaN      NaN                NaN   \n",
       "..                   ...  ...         ...      ...                ...   \n",
       "95  2025-02-06T12:57:16Z  ...         NaN      NaN                NaN   \n",
       "96  2025-02-06T14:16:58Z  ...         NaN      NaN                NaN   \n",
       "97  2025-02-06T08:52:51Z  ...      1134.0      5.8                3.1   \n",
       "98  2025-01-22T01:41:41Z  ...         NaN      NaN                NaN   \n",
       "99  2025-02-06T12:57:16Z  ...      1088.0      3.5                NaN   \n",
       "\n",
       "   carbohydrates_100g sugars_100g fiber_100g proteins_100g salt_100g  \\\n",
       "0                 NaN         NaN        NaN           NaN       NaN   \n",
       "1                 NaN         NaN        NaN           NaN       NaN   \n",
       "2                30.0        27.0        NaN           7.1     0.025   \n",
       "3                21.4        11.1        2.0          11.2    11.800   \n",
       "4                 NaN         NaN        NaN           NaN       NaN   \n",
       "..                ...         ...        ...           ...       ...   \n",
       "95                NaN         NaN        NaN           NaN       NaN   \n",
       "96                NaN         NaN        NaN           NaN       NaN   \n",
       "97               45.0         8.0        NaN           8.9     0.620   \n",
       "98                NaN         NaN        NaN           NaN       NaN   \n",
       "99               50.0         NaN        NaN           7.0       NaN   \n",
       "\n",
       "   sodium_100g fruits-vegetables-nuts-estimate-from-ingredients_100g  \n",
       "0          NaN                                                NaN     \n",
       "1          NaN                                           0.000000     \n",
       "2        0.010                                                NaN     \n",
       "3        4.720                                         100.000000     \n",
       "4          NaN                                           0.011335     \n",
       "..         ...                                                ...     \n",
       "95         NaN                                                NaN     \n",
       "96         NaN                                                NaN     \n",
       "97       0.248                                                NaN     \n",
       "98         NaN                                                NaN     \n",
       "99         NaN                                           0.000000     \n",
       "\n",
       "[100 rows x 66 columns]"
      ]
     },
     "execution_count": 4,
     "metadata": {},
     "output_type": "execute_result"
    }
   ],
   "source": [
    "# Filtrer votre échantillon avec une certaine tolérance concernant les valeurs non-nulles par colonne\n",
    "# Exemple\n",
    "# Eliminer les colonnes où +70% des valeurs sont nulles (NaN)\n",
    "threshold = 0.3  # Seuil minimal de 30% de valeurs non-nulles\n",
    "df_filtered = df.loc[:, df.notna().mean() > threshold]\n",
    "df_filtered"
   ]
  },
  {
   "cell_type": "markdown",
   "id": "afe45f00-30e4-415d-b6f2-360fabf45270",
   "metadata": {},
   "source": [
    "### 2.2°) Le nombre de modalités uniques par feature (la cardinalité)"
   ]
  },
  {
   "cell_type": "markdown",
   "id": "09f07f8b-aa0c-462c-b68d-74a40040f6fd",
   "metadata": {},
   "source": [
    "##### 2.2.1°) Qu'est ce que la cardinalité ?\n",
    "\n",
    "La cardinalité d’une variable catégorique correspond au nombre de modalités uniques qu’elle contient.\n",
    "\n",
    "- Une faible cardinalité signifie que la colonne a peu de valeurs uniques (ex : une colonne \"Catégorie de produit\" avec 10 valeurs différentes).\n",
    "- Une haute cardinalité signifie qu’elle a un grand nombre de valeurs uniques (ex : une colonne \"Nom du produit\" avec des milliers de valeurs différentes)."
   ]
  },
  {
   "cell_type": "markdown",
   "id": "8743fa71-d8f5-4a96-aa8a-ef1646a4ffb1",
   "metadata": {},
   "source": [
    "##### 2.2.2°) Pourquoi est-ce important en encodage ?\n",
    "\n",
    "L’encodage des variables catégoriques doit être adapté à leur cardinalité, sinon on risque :\n",
    "\n",
    "D’exploser la dimensionnalité avec un encodage one-hot sur une variable avec trop de catégories.\n",
    "D’introduire du bruit si on applique un encodage ordinal sur une variable qui n’a pas d’ordre logique.\n",
    "D’introduire des biais si l’on applique un encodage de fréquence ou target encoding sur une petite quantité de données."
   ]
  },
  {
   "cell_type": "markdown",
   "id": "ed49646d-068c-4415-adfa-01d10a1acf3a",
   "metadata": {},
   "source": [
    "##### 2.2.3°) Comment gérer l'encodage en fonction de la cardinalité ?\n",
    "\n",
    "On peut envisager 3 différents types de stratégies/méthodes/approches vis-à-vis de l'encodage des données selon la cardinalité\n",
    "\n",
    "Exemples concrets : \n",
    "- 🔹 Faible cardinalité (=> One-Hot Encoding)\n",
    "Colonne \"Catégorie de produit\" avec de 0 à 10 valeurs uniques :\n",
    "\n",
    "\"Boissons\", \"Snacks\", \"Produits laitiers\", \"Viande\", \"Fruits\"\n",
    "\n",
    "- 🔹 Moyenne cardinalité (=> Encodage de fréquence)\n",
    "Colonne \"Marque\" avec de 10 à 80 valeurs différentes :\n",
    "\n",
    "On remplace chaque marque par sa fréquence d’apparition dans le dataset.\n",
    "\n",
    "- 🔹 Haute cardinalité (=> Feature Hashing)\n",
    "Colonne \"Nom du produit\" avec plus de 80 valeurs uniques :\n",
    "\n",
    "On utilise un hashing trick pour transformer les valeurs en un nombre fixe de colonnes."
   ]
  },
  {
   "cell_type": "code",
   "execution_count": 16,
   "id": "10c140e0-4f81-45b3-a978-451ded2e2d52",
   "metadata": {},
   "outputs": [],
   "source": [
    "# Sélectionner uniquement les colonnes de type objet (catégoriques)\n",
    "cat_cols = df_filtered.select_dtypes(include=['float'])"
   ]
  },
  {
   "cell_type": "code",
   "execution_count": 18,
   "id": "f631d7df-9221-4907-975a-7075b1220b19",
   "metadata": {},
   "outputs": [
    {
     "data": {
      "text/plain": [
       "Index(['serving_quantity', 'additives_n', 'nova_group', 'product_quantity',\n",
       "       'unique_scans_n', 'completeness', 'last_image_t', 'energy-kcal_100g',\n",
       "       'energy_100g', 'fat_100g', 'saturated-fat_100g', 'carbohydrates_100g',\n",
       "       'sugars_100g', 'fiber_100g', 'proteins_100g', 'salt_100g',\n",
       "       'sodium_100g', 'fruits-vegetables-nuts-estimate-from-ingredients_100g'],\n",
       "      dtype='object')"
      ]
     },
     "execution_count": 18,
     "metadata": {},
     "output_type": "execute_result"
    }
   ],
   "source": [
    "cat_cols.columns"
   ]
  },
  {
   "cell_type": "code",
   "execution_count": 19,
   "id": "5651b4a1-90e1-452d-8d4b-d7c406953504",
   "metadata": {},
   "outputs": [
    {
     "data": {
      "text/plain": [
       "last_image_t                                             89\n",
       "energy-kcal_100g                                         51\n",
       "energy_100g                                              51\n",
       "carbohydrates_100g                                       49\n",
       "proteins_100g                                            48\n",
       "fat_100g                                                 38\n",
       "completeness                                             36\n",
       "sodium_100g                                              34\n",
       "salt_100g                                                34\n",
       "sugars_100g                                              34\n",
       "serving_quantity                                         33\n",
       "saturated-fat_100g                                       30\n",
       "fiber_100g                                               28\n",
       "product_quantity                                         28\n",
       "fruits-vegetables-nuts-estimate-from-ingredients_100g    15\n",
       "additives_n                                               9\n",
       "unique_scans_n                                            7\n",
       "nova_group                                                5\n",
       "dtype: int64"
      ]
     },
     "execution_count": 19,
     "metadata": {},
     "output_type": "execute_result"
    }
   ],
   "source": [
    "# Calculer la cardinalité pour ces colonnes\n",
    "cardinalite_cat = cat_cols.nunique(dropna=False).sort_values(ascending=False)\n",
    "cardinalite_cat"
   ]
  },
  {
   "cell_type": "code",
   "execution_count": 8,
   "id": "314f6a34-e014-4129-892e-3d9ddbc4a564",
   "metadata": {},
   "outputs": [
    {
     "name": "stdout",
     "output_type": "stream",
     "text": [
      "🔹 Faible cardinalité (≤10) :\n",
      " Series([], dtype: int64) \n",
      "\n",
      "🔸 Moyenne cardinalité (10-80) :\n",
      " last_updated_t    73\n",
      "dtype: int64 \n",
      "\n",
      "🔺 Haute cardinalité (>80) :\n",
      " created_t          100\n",
      "last_modified_t    100\n",
      "code                99\n",
      "dtype: int64 \n",
      "\n"
     ]
    }
   ],
   "source": [
    "# Définition des seuils\n",
    "low_threshold = 10\n",
    "high_threshold = 80\n",
    "\n",
    "# Créer des groupes\n",
    "low_cardinality = cardinalite_cat[cardinalite_cat <= low_threshold]\n",
    "medium_cardinality = cardinalite_cat[(cardinalite_cat > low_threshold) & (cardinalite_cat <= high_threshold)]\n",
    "high_cardinality = cardinalite_cat[cardinalite_cat > high_threshold]\n",
    "\n",
    "# Afficher les groupes\n",
    "print(\"🔹 Faible cardinalité (≤10) :\\n\", low_cardinality, \"\\n\")\n",
    "print(\"🔸 Moyenne cardinalité (10-80) :\\n\", medium_cardinality, \"\\n\")\n",
    "print(\"🔺 Haute cardinalité (>80) :\\n\", high_cardinality, \"\\n\")\n"
   ]
  },
  {
   "cell_type": "markdown",
   "id": "9d69d742-d6e4-4e8d-89a1-09e6f1aa4660",
   "metadata": {},
   "source": [
    "### 2.3°) La distribution des valeurs pour détecter d'éventuels déséquilibres"
   ]
  },
  {
   "cell_type": "markdown",
   "id": "a35107db-d3bc-44eb-85c5-3dd2668bd275",
   "metadata": {},
   "source": [
    "##### 2.3.1°) Vérifier la distribution des valeurs uniques par colonne"
   ]
  },
  {
   "cell_type": "code",
   "execution_count": 9,
   "id": "98a38561-f5cd-48ab-8e24-cf1f25048421",
   "metadata": {},
   "outputs": [
    {
     "name": "stdout",
     "output_type": "stream",
     "text": [
      "Colonnes contenant uniquement des valeurs uniques : ['created_t', 'last_modified_t']\n"
     ]
    }
   ],
   "source": [
    "# Variable pour stocker les colonnes contenant uniquement des valeurs uniques\n",
    "cols_with_unique_values = []\n",
    "\n",
    "# Vérifier si une colonne a uniquement des valeurs uniques\n",
    "for col in cat_cols.columns:\n",
    "    if cat_cols[col].nunique(dropna=False) == len(cat_cols[col]):\n",
    "        #print(f\"La colonne '{col}' contient uniquement des valeurs uniques.\")\n",
    "        cols_with_unique_values.append(col)  # Ajouter la colonne à la liste si elle contient uniquement une valeur unique\n",
    "        #cat_cols = cat_cols.drop(col, axis=1)  # Supprimer la colonne du DataFrame\n",
    "    #else:\n",
    "        #print(f\"La colonne '{col}' ne contient pas uniquement des valeurs uniques.\")\n",
    "\n",
    "# Afficher les colonnes avec uniquement des valeurs uniques\n",
    "print(\"Colonnes contenant uniquement des valeurs uniques :\", cols_with_unique_values)"
   ]
  },
  {
   "cell_type": "code",
   "execution_count": 10,
   "id": "585581ad-61fa-499c-9dd3-4df930b0ac8d",
   "metadata": {},
   "outputs": [
    {
     "data": {
      "text/plain": [
       "Index(['code', 'created_t', 'last_modified_t', 'last_updated_t'], dtype='object')"
      ]
     },
     "execution_count": 10,
     "metadata": {},
     "output_type": "execute_result"
    }
   ],
   "source": [
    "cat_cols.columns"
   ]
  },
  {
   "cell_type": "code",
   "execution_count": 11,
   "id": "c22a3ea2-4810-4ddb-b810-10e622a58576",
   "metadata": {},
   "outputs": [
    {
     "name": "stdout",
     "output_type": "stream",
     "text": [
      "\n",
      "🔹 Distribution de la colonne: code\n",
      "code\n",
      "9     0.02\n",
      "54    0.01\n",
      "59    0.01\n",
      "69    0.01\n",
      "68    0.01\n",
      "Name: proportion, dtype: float64\n",
      "--------------------------------------------------\n",
      "\n",
      "🔹 Distribution de la colonne: created_t\n",
      "created_t\n",
      "1582569031    0.01\n",
      "1730873549    0.01\n",
      "1559142480    0.01\n",
      "1728862210    0.01\n",
      "1564924078    0.01\n",
      "Name: proportion, dtype: float64\n",
      "--------------------------------------------------\n",
      "\n",
      "🔹 Distribution de la colonne: last_modified_t\n",
      "last_modified_t\n",
      "1733085204    0.01\n",
      "1730873550    0.01\n",
      "1729273166    0.01\n",
      "1732323613    0.01\n",
      "1732209331    0.01\n",
      "Name: proportion, dtype: float64\n",
      "--------------------------------------------------\n",
      "\n",
      "🔹 Distribution de la colonne: last_updated_t\n",
      "last_updated_t\n",
      "1738846633    0.10\n",
      "1738846636    0.07\n",
      "1738846635    0.07\n",
      "1738831966    0.04\n",
      "1738829324    0.02\n",
      "Name: proportion, dtype: float64\n",
      "--------------------------------------------------\n"
     ]
    }
   ],
   "source": [
    "# Afficher les 5 valeurs les plus fréquentes pour chaque colonne catégorique\n",
    "for col in cat_cols:\n",
    "    print(f\"\\n🔹 Distribution de la colonne: {col}\")\n",
    "    print(df[col].value_counts(normalize=True).head(5))  # Normalized => Affiche la proportion (en pourcentage donc) de chaque modalité\n",
    "    print(\"-\" * 50)"
   ]
  },
  {
   "cell_type": "markdown",
   "id": "bf21e95d-9d90-47c0-af5a-f5bad8b93b65",
   "metadata": {},
   "source": [
    "##### 2.3.2°) Visualiser la distribution avec des graphiques"
   ]
  },
  {
   "cell_type": "code",
   "execution_count": 12,
   "id": "65af2072-f7a9-4972-929b-55595900d23f",
   "metadata": {},
   "outputs": [],
   "source": [
    "#!pip uninstall -y numpy matplotlib\n",
    "#!pip cache purge\n",
    "#!pip install \"numpy<2.0\"\n",
    "#!pip install matplotlib"
   ]
  },
  {
   "cell_type": "code",
   "execution_count": 13,
   "id": "f3d11530-ead9-452d-9c88-e40cbc92ddc4",
   "metadata": {},
   "outputs": [
    {
     "name": "stdout",
     "output_type": "stream",
     "text": [
      "NumPy version: 1.26.4\n",
      "Matplotlib fonctionne !\n"
     ]
    }
   ],
   "source": [
    "import numpy as np\n",
    "import matplotlib.pyplot as plt\n",
    "\n",
    "print(\"NumPy version:\", np.__version__)\n",
    "print(\"Matplotlib fonctionne !\")"
   ]
  },
  {
   "cell_type": "code",
   "execution_count": 14,
   "id": "966dafd9-4523-4272-9173-7125985411c0",
   "metadata": {},
   "outputs": [],
   "source": [
    "import matplotlib.pyplot as plt"
   ]
  },
  {
   "cell_type": "code",
   "execution_count": 15,
   "id": "3975720e-f14c-41b4-a29a-23f516ec27b4",
   "metadata": {},
   "outputs": [
    {
     "ename": "KeyError",
     "evalue": "'brands'",
     "output_type": "error",
     "traceback": [
      "\u001b[0;31m---------------------------------------------------------------------------\u001b[0m",
      "\u001b[0;31mKeyError\u001b[0m                                  Traceback (most recent call last)",
      "File \u001b[0;32m~/.pyenv/versions/3.11.0/lib/python3.11/site-packages/pandas/core/indexes/base.py:3805\u001b[0m, in \u001b[0;36mIndex.get_loc\u001b[0;34m(self, key)\u001b[0m\n\u001b[1;32m   3804\u001b[0m \u001b[38;5;28;01mtry\u001b[39;00m:\n\u001b[0;32m-> 3805\u001b[0m     \u001b[38;5;28;01mreturn\u001b[39;00m \u001b[38;5;28;43mself\u001b[39;49m\u001b[38;5;241;43m.\u001b[39;49m\u001b[43m_engine\u001b[49m\u001b[38;5;241;43m.\u001b[39;49m\u001b[43mget_loc\u001b[49m\u001b[43m(\u001b[49m\u001b[43mcasted_key\u001b[49m\u001b[43m)\u001b[49m\n\u001b[1;32m   3806\u001b[0m \u001b[38;5;28;01mexcept\u001b[39;00m \u001b[38;5;167;01mKeyError\u001b[39;00m \u001b[38;5;28;01mas\u001b[39;00m err:\n",
      "File \u001b[0;32mindex.pyx:167\u001b[0m, in \u001b[0;36mpandas._libs.index.IndexEngine.get_loc\u001b[0;34m()\u001b[0m\n",
      "File \u001b[0;32mindex.pyx:196\u001b[0m, in \u001b[0;36mpandas._libs.index.IndexEngine.get_loc\u001b[0;34m()\u001b[0m\n",
      "File \u001b[0;32mpandas/_libs/hashtable_class_helper.pxi:7081\u001b[0m, in \u001b[0;36mpandas._libs.hashtable.PyObjectHashTable.get_item\u001b[0;34m()\u001b[0m\n",
      "File \u001b[0;32mpandas/_libs/hashtable_class_helper.pxi:7089\u001b[0m, in \u001b[0;36mpandas._libs.hashtable.PyObjectHashTable.get_item\u001b[0;34m()\u001b[0m\n",
      "\u001b[0;31mKeyError\u001b[0m: 'brands'",
      "\nThe above exception was the direct cause of the following exception:\n",
      "\u001b[0;31mKeyError\u001b[0m                                  Traceback (most recent call last)",
      "Cell \u001b[0;32mIn[15], line 2\u001b[0m\n\u001b[1;32m      1\u001b[0m \u001b[38;5;66;03m# Compter les occurrences de chaque catégorie\u001b[39;00m\n\u001b[0;32m----> 2\u001b[0m counts \u001b[38;5;241m=\u001b[39m \u001b[43mcat_cols\u001b[49m\u001b[43m[\u001b[49m\u001b[38;5;124;43m\"\u001b[39;49m\u001b[38;5;124;43mbrands\u001b[39;49m\u001b[38;5;124;43m\"\u001b[39;49m\u001b[43m]\u001b[49m\u001b[38;5;241m.\u001b[39mvalue_counts()\u001b[38;5;241m.\u001b[39mhead(\u001b[38;5;241m10\u001b[39m)  \u001b[38;5;66;03m# Prendre les 10 catégories les plus fréquentes de la colonne 'brands'\u001b[39;00m\n\u001b[1;32m      4\u001b[0m \u001b[38;5;66;03m# Tracer le graphique\u001b[39;00m\n\u001b[1;32m      5\u001b[0m plt\u001b[38;5;241m.\u001b[39mfigure(figsize\u001b[38;5;241m=\u001b[39m(\u001b[38;5;241m10\u001b[39m, \u001b[38;5;241m5\u001b[39m))\n",
      "File \u001b[0;32m~/.pyenv/versions/3.11.0/lib/python3.11/site-packages/pandas/core/frame.py:4102\u001b[0m, in \u001b[0;36mDataFrame.__getitem__\u001b[0;34m(self, key)\u001b[0m\n\u001b[1;32m   4100\u001b[0m \u001b[38;5;28;01mif\u001b[39;00m \u001b[38;5;28mself\u001b[39m\u001b[38;5;241m.\u001b[39mcolumns\u001b[38;5;241m.\u001b[39mnlevels \u001b[38;5;241m>\u001b[39m \u001b[38;5;241m1\u001b[39m:\n\u001b[1;32m   4101\u001b[0m     \u001b[38;5;28;01mreturn\u001b[39;00m \u001b[38;5;28mself\u001b[39m\u001b[38;5;241m.\u001b[39m_getitem_multilevel(key)\n\u001b[0;32m-> 4102\u001b[0m indexer \u001b[38;5;241m=\u001b[39m \u001b[38;5;28;43mself\u001b[39;49m\u001b[38;5;241;43m.\u001b[39;49m\u001b[43mcolumns\u001b[49m\u001b[38;5;241;43m.\u001b[39;49m\u001b[43mget_loc\u001b[49m\u001b[43m(\u001b[49m\u001b[43mkey\u001b[49m\u001b[43m)\u001b[49m\n\u001b[1;32m   4103\u001b[0m \u001b[38;5;28;01mif\u001b[39;00m is_integer(indexer):\n\u001b[1;32m   4104\u001b[0m     indexer \u001b[38;5;241m=\u001b[39m [indexer]\n",
      "File \u001b[0;32m~/.pyenv/versions/3.11.0/lib/python3.11/site-packages/pandas/core/indexes/base.py:3812\u001b[0m, in \u001b[0;36mIndex.get_loc\u001b[0;34m(self, key)\u001b[0m\n\u001b[1;32m   3807\u001b[0m     \u001b[38;5;28;01mif\u001b[39;00m \u001b[38;5;28misinstance\u001b[39m(casted_key, \u001b[38;5;28mslice\u001b[39m) \u001b[38;5;129;01mor\u001b[39;00m (\n\u001b[1;32m   3808\u001b[0m         \u001b[38;5;28misinstance\u001b[39m(casted_key, abc\u001b[38;5;241m.\u001b[39mIterable)\n\u001b[1;32m   3809\u001b[0m         \u001b[38;5;129;01mand\u001b[39;00m \u001b[38;5;28many\u001b[39m(\u001b[38;5;28misinstance\u001b[39m(x, \u001b[38;5;28mslice\u001b[39m) \u001b[38;5;28;01mfor\u001b[39;00m x \u001b[38;5;129;01min\u001b[39;00m casted_key)\n\u001b[1;32m   3810\u001b[0m     ):\n\u001b[1;32m   3811\u001b[0m         \u001b[38;5;28;01mraise\u001b[39;00m InvalidIndexError(key)\n\u001b[0;32m-> 3812\u001b[0m     \u001b[38;5;28;01mraise\u001b[39;00m \u001b[38;5;167;01mKeyError\u001b[39;00m(key) \u001b[38;5;28;01mfrom\u001b[39;00m \u001b[38;5;21;01merr\u001b[39;00m\n\u001b[1;32m   3813\u001b[0m \u001b[38;5;28;01mexcept\u001b[39;00m \u001b[38;5;167;01mTypeError\u001b[39;00m:\n\u001b[1;32m   3814\u001b[0m     \u001b[38;5;66;03m# If we have a listlike key, _check_indexing_error will raise\u001b[39;00m\n\u001b[1;32m   3815\u001b[0m     \u001b[38;5;66;03m#  InvalidIndexError. Otherwise we fall through and re-raise\u001b[39;00m\n\u001b[1;32m   3816\u001b[0m     \u001b[38;5;66;03m#  the TypeError.\u001b[39;00m\n\u001b[1;32m   3817\u001b[0m     \u001b[38;5;28mself\u001b[39m\u001b[38;5;241m.\u001b[39m_check_indexing_error(key)\n",
      "\u001b[0;31mKeyError\u001b[0m: 'brands'"
     ]
    }
   ],
   "source": [
    "# Compter les occurrences de chaque catégorie\n",
    "counts = cat_cols[\"brands\"].value_counts().head(10)  # Prendre les 10 catégories les plus fréquentes de la colonne 'brands'\n",
    "\n",
    "# Tracer le graphique\n",
    "plt.figure(figsize=(10, 5))\n",
    "counts.plot(kind='barh', color='skyblue')\n",
    "plt.xlabel(\"Nombre d'occurrences\")\n",
    "plt.ylabel(\"Catégories\")\n",
    "plt.title(f\"Top 10 des valeurs dans {col}\")\n",
    "plt.gca().invert_yaxis()  # Inverser l'ordre pour la lisibilité\n",
    "plt.show()"
   ]
  },
  {
   "cell_type": "markdown",
   "id": "7f829042-569a-4fec-8bdb-38dd817c21c8",
   "metadata": {},
   "source": [
    "##### 2.3.3°) Détecter les catégories trop rares(valeurs minoritaires)"
   ]
  },
  {
   "cell_type": "code",
   "execution_count": null,
   "id": "a3177b44-0ef5-4569-a1dc-cc582b1e7562",
   "metadata": {},
   "outputs": [],
   "source": [
    "## Détecter les valeurs rares (moins de 1% des données)\n",
    "#threshold = 0.02  # Seuil de rareté : 1%\n",
    "#for col in cat_cols:\n",
    "    #rare_values = cat_cols[col].value_counts(normalize=True)[cat_cols[col].value_counts(normalize=True) < threshold]\n",
    "    #f not rare_values.empty:\n",
    "        #print(f\"\\n⚠️ Valeurs rares détectées dans '{col}':\")\n",
    "        #print(rare_values)"
   ]
  },
  {
   "cell_type": "markdown",
   "id": "4367c21f-8b94-45a4-8ff7-42fd16aa8f06",
   "metadata": {},
   "source": [
    "##### 2.3.4°) Gérer les déséquilibres détectés"
   ]
  },
  {
   "cell_type": "code",
   "execution_count": null,
   "id": "d278774b-5355-4166-a039-e5b046ff4dd1",
   "metadata": {},
   "outputs": [],
   "source": [
    "## Si des catégories sont très rares (<1%) \n",
    "## Regrouper les valeurs rares dans une atégorie \"Autre\"\n",
    "#threshold = 0.01  # Seuil de fréquence\n",
    "#col = \"brands\"  # par exemple 'brands'\n",
    "\n",
    "## Identifier les valeurs rares\n",
    "#counts = df[col].value_counts(normalize=True)\n",
    "#rare_values = counts[counts < threshold].index\n",
    "\n",
    "## Remplacer par \"Autre\"\n",
    "#df[col] = df[col].replace(rare_values, \"Autre\")\n"
   ]
  },
  {
   "cell_type": "markdown",
   "id": "d8ff37d0-6ee9-40bb-b379-6a9ce8635890",
   "metadata": {},
   "source": [
    "### 2.4°) Définir les colonnes ordinales et non ordinales"
   ]
  },
  {
   "cell_type": "code",
   "execution_count": null,
   "id": "cc6330b1-a204-4f80-b29c-84c7a632d588",
   "metadata": {},
   "outputs": [],
   "source": [
    "def separate_ordinal_and_nonordinal(df):\n",
    "    \"\"\"\n",
    "    Sépare les colonnes ordinales et non ordinales dans un DataFrame.\n",
    "    \n",
    "    :param df: DataFrame pandas avec des colonnes catégorielles\n",
    "    :return: Deux DataFrames, l'un avec les colonnes ordinales et l'autre avec les colonnes non ordinales\n",
    "    \"\"\"\n",
    "    # Créer une liste de colonnes ordinales et non ordinales\n",
    "    ordinal_cols = []\n",
    "    non_ordinal_cols = []\n",
    "    \n",
    "    # Ici, nous présumons que les colonnes ordinales ont un ordre défini dans les valeurs uniques\n",
    "    # Par exemple, des valeurs comme 'Bas', 'Moyen', 'Haut' sont ordinales, alors que 'Chat', 'Chien', 'Poisson' sont non ordinales.\n",
    "    \n",
    "    for col in cat_cols.columns:\n",
    "        # On vérifie si la colonne est de type 'object' (catégorielle)\n",
    "        if 'datetime' in col or 'grade' in col:\n",
    "            ordinal_cols.append(col)         \n",
    "        else:\n",
    "            non_ordinal_cols.append(col)\n",
    "    \n",
    "    # Extraire les données pour les colonnes ordinales et non ordinales\n",
    "    ordinal_data = df[ordinal_cols]\n",
    "    non_ordinal_data = df[non_ordinal_cols]\n",
    "    \n",
    "    return ordinal_data, non_ordinal_data\n",
    "\n",
    "# Exemple d'utilisation\n",
    "ordinal_data, non_ordinal_data = separate_ordinal_and_nonordinal(cat_cols)\n",
    "\n",
    "# Afficher les résultats\n",
    "print(\"Colonnes ordinales:\")\n",
    "print(ordinal_data.head())\n",
    "\n",
    "print(\"\\nColonnes non ordinales:\")\n",
    "print(non_ordinal_data.head())\n"
   ]
  },
  {
   "cell_type": "markdown",
   "id": "6196211d-b440-4623-8f87-b6195ae4f485",
   "metadata": {},
   "source": [
    "# 3°) Choix de la méthode d'encodage"
   ]
  },
  {
   "cell_type": "markdown",
   "id": "466c431f-1dfd-4a26-97a1-e27feeae1d3b",
   "metadata": {},
   "source": [
    "### 3.1°) Dummies"
   ]
  },
  {
   "cell_type": "code",
   "execution_count": null,
   "id": "02819e9f-1adf-4ca1-95ab-698fbf4f367a",
   "metadata": {},
   "outputs": [],
   "source": [
    "# Exemple d'encodage avec get_dummies pour une colonne à faible cardinalité\n",
    "#cat_cols_dummies = pd.get_dummies(cat_cols, columns=['pnns_groups_1'], drop_first=True) #exemple avec la colonne 'nutriscore_grade'\n",
    "#cat_cols_dummies"
   ]
  },
  {
   "cell_type": "markdown",
   "id": "964f69e3-e84d-4cab-92c3-22036829102c",
   "metadata": {},
   "source": [
    "cf. [Chapitre 5: Préparation de données](https://filedn.eu/lefeldrXcsSFgCcgc48eaLY/cours/general/site/data%20science/introduction/preparation_donnees/)"
   ]
  },
  {
   "cell_type": "markdown",
   "id": "3f3c6752-18f6-4eec-bf0c-dda74672f819",
   "metadata": {},
   "source": [
    "### 3.2°) Factorize"
   ]
  },
  {
   "cell_type": "code",
   "execution_count": null,
   "id": "2ea0ec3b-d3b8-492b-a9c1-d5da673b8303",
   "metadata": {},
   "outputs": [],
   "source": [
    "# Autres façon de faire de l'encodage de colonnes catégorielles en utilisant la fonction factorize de pandas\n",
    "#codes, uniques = pd.factorize(df_filtered['labels']) # Exemple avec la colonne 'Labels'\n",
    "#df_filtered['labels_dummies'] = codes\n",
    "#df_filtered[['labels_dummies', 'labels']]"
   ]
  },
  {
   "cell_type": "markdown",
   "id": "efcc09c5-9ffd-4804-8559-bcb69e41d52c",
   "metadata": {},
   "source": [
    "### 3.3°) OrdinalEncoder"
   ]
  },
  {
   "cell_type": "code",
   "execution_count": null,
   "id": "a111f345-f8d9-4e5e-8a04-c58fa8294c9f",
   "metadata": {},
   "outputs": [],
   "source": [
    "from sklearn.preprocessing import OrdinalEncoder\n",
    "from sklearn import preprocessing"
   ]
  },
  {
   "cell_type": "code",
   "execution_count": null,
   "id": "99f8d343-2b5c-4aa4-afe3-2e5ea2aea8bd",
   "metadata": {},
   "outputs": [],
   "source": [
    "ordinal_data.head()"
   ]
  },
  {
   "cell_type": "code",
   "execution_count": null,
   "id": "97fb428d-426d-4918-bc50-b7a503e0a082",
   "metadata": {},
   "outputs": [],
   "source": [
    "oe = preprocessing.OrdinalEncoder(handle_unknown='use_encoded_value', unknown_value=-1)\n",
    "ordinal_data_transform = oe.fit_transform(ordinal_data)"
   ]
  },
  {
   "cell_type": "code",
   "execution_count": null,
   "id": "a2af9d02-e8bf-40c1-8948-7c693edfbeef",
   "metadata": {},
   "outputs": [],
   "source": [
    "ordinal_data_transform"
   ]
  },
  {
   "cell_type": "code",
   "execution_count": null,
   "id": "f8425975-2522-44b2-a3cb-726c2503b4e4",
   "metadata": {},
   "outputs": [],
   "source": [
    "# Convertir ndarray en DataFrame et ajouter des noms de colonnes\n",
    "ordinal_data_transform_df = pd.DataFrame(ordinal_data_transform, columns=ordinal_data.columns)\n",
    "\n",
    "ordinal_data_transform_df                      "
   ]
  },
  {
   "cell_type": "markdown",
   "id": "50c88ae2-017a-4be3-85e6-b9f366300387",
   "metadata": {},
   "source": [
    "### 3.4°) One-Hot Encodage (OHE)"
   ]
  },
  {
   "cell_type": "code",
   "execution_count": null,
   "id": "cdefab92-25e5-42f5-80e1-38a9ad06c7fc",
   "metadata": {},
   "outputs": [],
   "source": [
    "# On définit et on entraîne un OneHotEncoder\n",
    "from sklearn.preprocessing import OneHotEncoder\n",
    "#enc = OneHotEncoder(handle_unknown='ignore')\n",
    "#enc.fit(cat_cols.loc[:, ['pnns_groups_1', 'environmental_score_grade']]) \n",
    "#Possibilité d'ajouter toutes les  colonnes non ordinales avec la varibale non_ordinal_data"
   ]
  },
  {
   "cell_type": "code",
   "execution_count": null,
   "id": "3b3877f5-3833-4dd2-98da-75a377403578",
   "metadata": {},
   "outputs": [],
   "source": [
    "# On peut regarder les catégories uniques qui vont être encodées\n",
    "#enc.categories_"
   ]
  },
  {
   "cell_type": "code",
   "execution_count": null,
   "id": "8d730307-2cca-43e8-8abb-b56800a7910a",
   "metadata": {},
   "outputs": [],
   "source": [
    "# On applique ensuite la transformation\n",
    "#encoded_features = enc.transform(cat_cols.loc[:, ['pnns_groups_1', 'environmental_score_grade']]).toarray()\n",
    "#encoded_features"
   ]
  },
  {
   "cell_type": "code",
   "execution_count": null,
   "id": "b9ccb15f-2ca1-45b8-a639-f6d0b45734c6",
   "metadata": {},
   "outputs": [],
   "source": [
    "# Scikit-learn permet aussi de récupérer le nom des features encodées\n",
    "#encoded_features_names = enc.get_feature_names_out()\n",
    "#encoded_features_names"
   ]
  },
  {
   "cell_type": "code",
   "execution_count": null,
   "id": "f035439c-7be7-4162-8fb7-a9ef09329aec",
   "metadata": {},
   "outputs": [],
   "source": [
    "# Ou de l'afficher dans un DataFrame\n",
    "#pd.DataFrame(encoded_features,\n",
    "            #columns = encoded_features_names).head()"
   ]
  },
  {
   "cell_type": "markdown",
   "id": "630840eb-cb79-4f00-a9a0-4288454bca5e",
   "metadata": {},
   "source": [
    "### 3.5°) Label Encoder "
   ]
  },
  {
   "cell_type": "code",
   "execution_count": null,
   "id": "ce406ebc-099f-4318-aad1-5140b02d1ba8",
   "metadata": {},
   "outputs": [],
   "source": [
    "from sklearn.preprocessing import LabelEncoder"
   ]
  },
  {
   "cell_type": "code",
   "execution_count": null,
   "id": "299dd655-eb3d-4246-bac4-fcac399f2f8d",
   "metadata": {},
   "outputs": [],
   "source": [
    "#cat_cols['nutriscore_grade'].nunique(dropna=False)"
   ]
  },
  {
   "cell_type": "code",
   "execution_count": null,
   "id": "6647e3dc-d751-476f-80b4-5f1ebf397e9a",
   "metadata": {},
   "outputs": [],
   "source": [
    "#print(\"Unique values before encoding:\")\n",
    "#print(cat_cols['nutriscore_grade'].unique())"
   ]
  },
  {
   "cell_type": "code",
   "execution_count": null,
   "id": "62c5c00d-db4c-4b4a-a58f-a06c2503e959",
   "metadata": {},
   "outputs": [],
   "source": [
    "#cat_cols['nutriscore_grade'].head(5)"
   ]
  },
  {
   "cell_type": "code",
   "execution_count": null,
   "id": "0fe11eb3-6777-446a-9365-1e830dd30270",
   "metadata": {},
   "outputs": [],
   "source": [
    "# Exemple d'encodage avec Label Encoder sur la colonne 'nutriscore_grade'\n",
    "#label_enc = LabelEncoder()\n",
    "#cat_cols_nutriscore = label_enc.fit_transform(cat_cols['nutriscore_grade']) "
   ]
  },
  {
   "cell_type": "code",
   "execution_count": null,
   "id": "b7856aae-a119-4c41-9318-b6a919cd1518",
   "metadata": {},
   "outputs": [],
   "source": [
    "# Convertir l'array cat_cols_nutriscore en une Series pandas\n",
    "#cat_cols_nutriscore_series = pd.Series(cat_cols_nutriscore)\n",
    "#cat_cols_nutriscore_series.value_counts()"
   ]
  },
  {
   "cell_type": "markdown",
   "id": "d3018a05-f006-425c-a3eb-d084a95658d2",
   "metadata": {},
   "source": [
    "### 3.6°) Count Encoder"
   ]
  },
  {
   "cell_type": "markdown",
   "id": "eb1ffe13-a477-4e58-92a0-ab489c84014b",
   "metadata": {},
   "source": [
    "cf. [Scikit-Learn : Count Encoder](https://contrib.scikit-learn.org/category_encoders/count.html)"
   ]
  },
  {
   "cell_type": "code",
   "execution_count": null,
   "id": "625d500c-8072-4841-bb6d-56c22f646608",
   "metadata": {},
   "outputs": [],
   "source": [
    "non_ordinal_data.head()"
   ]
  },
  {
   "cell_type": "code",
   "execution_count": null,
   "id": "36cf52e2-d89a-4b8f-a187-d9d09b61fd12",
   "metadata": {},
   "outputs": [],
   "source": [
    "#!pip install category_encoders"
   ]
  },
  {
   "cell_type": "code",
   "execution_count": null,
   "id": "443e0623-e461-4371-bd48-99d22576cc39",
   "metadata": {},
   "outputs": [],
   "source": [
    "import category_encoders as ce"
   ]
  },
  {
   "cell_type": "code",
   "execution_count": null,
   "id": "08615848-173a-4976-9ded-13e11bd896a5",
   "metadata": {},
   "outputs": [],
   "source": [
    "# Initialisation de CountEncoder\n",
    "encoder = ce.CountEncoder(cols=non_ordinal_data, handle_unknown='value', handle_missing='value')\n",
    "\n",
    "# Encodage des données\n",
    "df_encoded = encoder.fit_transform(non_ordinal_data)\n",
    "\n",
    "df_encoded.head()"
   ]
  },
  {
   "cell_type": "code",
   "execution_count": null,
   "id": "971f57e8-8575-411f-a23c-6f6b5a463ba1",
   "metadata": {},
   "outputs": [],
   "source": [
    "# Exemple d'encodage sur une seule colonne de votre choix par exemple avec la colonne main_category\n",
    "#freq_encoding = df['main_category'].value_counts(normalize=True)\n",
    "#df['main_category'] = df['main_category'].map(freq_encoding)\n",
    "#df['main_category']"
   ]
  },
  {
   "cell_type": "markdown",
   "id": "63c53b95-5e92-47fd-95a8-e63b9358a99a",
   "metadata": {},
   "source": [
    "### 3.6°) Hashing Encoder (A RETRAVAILLER)"
   ]
  },
  {
   "cell_type": "markdown",
   "id": "f0469483-ba31-4d73-b42f-05faf7ffedb0",
   "metadata": {},
   "source": [
    "cf. [Scikit-Learn : HashingEncoder](https://contrib.scikit-learn.org/category_encoders/hashing.html)"
   ]
  },
  {
   "cell_type": "code",
   "execution_count": null,
   "id": "89755873-8c40-44cd-88b7-a9b24eeee152",
   "metadata": {},
   "outputs": [],
   "source": [
    "non_ordinal_data.columns"
   ]
  },
  {
   "cell_type": "code",
   "execution_count": null,
   "id": "c02ae0d1-cd06-446f-8598-b3b916f08f95",
   "metadata": {},
   "outputs": [],
   "source": [
    "# Initialiser le HashingEncoder\n",
    "#encoder = ce.HashingEncoder(cols=non_ordinal_data.columns, n_components=4, hash_method='md5', return_df=True)\n",
    "\n",
    "# Appliquer le HashingEncoder\n",
    "#df_encoded = encoder.fit_transform(df)\n",
    "\n",
    "# Afficher le DataFrame encodé\n",
    "#df_encoded"
   ]
  },
  {
   "cell_type": "markdown",
   "id": "0f87d2a7-3fd0-45db-aa54-ec4587a04828",
   "metadata": {},
   "source": [
    "# 4°) Obtention du dataframe encodé"
   ]
  },
  {
   "cell_type": "code",
   "execution_count": null,
   "id": "24a0a6de-ec93-44c2-9e4b-2321940f3964",
   "metadata": {},
   "outputs": [],
   "source": [
    "# Concatenation des DataFrames sur les colonnes (axis=1)\n",
    "df_combined = pd.concat([df_encoded, ordinal_data_transform_df], axis=1)\n",
    "\n",
    "# Affichage du DataFrame combiné\n",
    "df_combined.head()"
   ]
  },
  {
   "cell_type": "code",
   "execution_count": null,
   "id": "68ddcce4-9b5a-49d3-8257-1840e7b95694",
   "metadata": {},
   "outputs": [],
   "source": [
    "df_combined.to_csv(\"df_combined.csv\", index=True)"
   ]
  },
  {
   "cell_type": "code",
   "execution_count": null,
   "id": "4a8a543a-666b-479c-97ec-e3ab343b3835",
   "metadata": {},
   "outputs": [],
   "source": []
  }
 ],
 "metadata": {
  "kernelspec": {
   "display_name": "Python 3 (ipykernel)",
   "language": "python",
   "name": "python3"
  },
  "language_info": {
   "codemirror_mode": {
    "name": "ipython",
    "version": 3
   },
   "file_extension": ".py",
   "mimetype": "text/x-python",
   "name": "python",
   "nbconvert_exporter": "python",
   "pygments_lexer": "ipython3",
   "version": "3.11.0"
  }
 },
 "nbformat": 4,
 "nbformat_minor": 5
}
