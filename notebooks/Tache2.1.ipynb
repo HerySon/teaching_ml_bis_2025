{
 "cells": [
  {
   "cell_type": "markdown",
   "id": "731cf1f0-ace2-47db-83cd-b505beb7b280",
   "metadata": {},
   "source": [
    "# Mettre en place des méthode de selection de features(5pts)"
   ]
  },
  {
   "cell_type": "code",
   "execution_count": null,
   "id": "b4493519-02b7-4ec0-a695-030da3dbf947",
   "metadata": {},
   "outputs": [],
   "source": [
    "Matrice de corrélation\n",
    "ACP\n"
   ]
  }
 ],
 "metadata": {
  "kernelspec": {
   "display_name": "Python 3 (ipykernel)",
   "language": "python",
   "name": "python3"
  },
  "language_info": {
   "codemirror_mode": {
    "name": "ipython",
    "version": 3
   },
   "file_extension": ".py",
   "mimetype": "text/x-python",
   "name": "python",
   "nbconvert_exporter": "python",
   "pygments_lexer": "ipython3",
   "version": "3.11.0"
  }
 },
 "nbformat": 4,
 "nbformat_minor": 5
}
