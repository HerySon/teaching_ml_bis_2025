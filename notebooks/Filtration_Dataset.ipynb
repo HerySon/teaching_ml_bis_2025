{
 "cells": [
  {
   "cell_type": "markdown",
   "metadata": {},
   "source": [
    "## Chargement et préparation des données\n"
   ]
  },
  {
   "cell_type": "code",
   "execution_count": 1,
   "metadata": {
    "ExecuteTime": {
     "start_time": "2025-02-19T09:28:54.221631Z"
    },
    "jupyter": {
     "is_executing": true
    }
   },
   "outputs": [],
   "source": [
    "import sys\n",
    "sys.path.append('..')\n",
    "\n",
    "import pandas as pd\n",
    "import numpy as np\n",
    "import matplotlib.pyplot as plt\n",
    "from IPython.display import display, HTML\n",
    "\n",
    "from scripts.features.processing import filter_and_analyze_dataset\n",
    "from scripts.visualization.data_quality_viz import plot_data_quality_dashboard\n",
    "\n",
    "df = pd.read_csv('../data/en.openfoodfacts.org.products.csv', \n",
    "                 sep='\\t',\n",
    "                 encoding='utf-8',\n",
    "                 low_memory=False,\n",
    "                 on_bad_lines='skip',\n",
    "                 nrows=300000)"
   ]
  },
  {
   "cell_type": "code",
   "execution_count": 2,
   "metadata": {},
   "outputs": [
    {
     "ename": "TypeError",
     "evalue": "filter_and_analyze_dataset() got an unexpected keyword argument 'min_unique_ratio'",
     "output_type": "error",
     "traceback": [
      "\u001b[1;31m---------------------------------------------------------------------------\u001b[0m",
      "\u001b[1;31mTypeError\u001b[0m                                 Traceback (most recent call last)",
      "Cell \u001b[1;32mIn[2], line 12\u001b[0m\n\u001b[0;32m      2\u001b[0m params \u001b[38;5;241m=\u001b[39m {\n\u001b[0;32m      3\u001b[0m     \u001b[38;5;124m'\u001b[39m\u001b[38;5;124mmax_categories\u001b[39m\u001b[38;5;124m'\u001b[39m: \u001b[38;5;241m30\u001b[39m,\n\u001b[0;32m      4\u001b[0m     \u001b[38;5;124m'\u001b[39m\u001b[38;5;124mmin_unique_ratio\u001b[39m\u001b[38;5;124m'\u001b[39m: \u001b[38;5;241m0.01\u001b[39m,\n\u001b[1;32m   (...)\u001b[0m\n\u001b[0;32m      8\u001b[0m     \u001b[38;5;124m'\u001b[39m\u001b[38;5;124mverbose\u001b[39m\u001b[38;5;124m'\u001b[39m: \u001b[38;5;28;01mTrue\u001b[39;00m  \u001b[38;5;66;03m# Pour afficher tous les détails\u001b[39;00m\n\u001b[0;32m      9\u001b[0m }\n\u001b[0;32m     11\u001b[0m \u001b[38;5;66;03m# Application de la fonction\u001b[39;00m\n\u001b[1;32m---> 12\u001b[0m df_filtered, analysis_report \u001b[38;5;241m=\u001b[39m \u001b[43mfilter_and_analyze_dataset\u001b[49m\u001b[43m(\u001b[49m\u001b[43mdf\u001b[49m\u001b[43m,\u001b[49m\u001b[43m \u001b[49m\u001b[38;5;241;43m*\u001b[39;49m\u001b[38;5;241;43m*\u001b[39;49m\u001b[43mparams\u001b[49m\u001b[43m)\u001b[49m\n\u001b[0;32m     14\u001b[0m \u001b[38;5;66;03m# Visualisation des résultats essentiels\u001b[39;00m\n\u001b[0;32m     15\u001b[0m plot_data_quality_dashboard(df_filtered, analysis_report[\u001b[38;5;124m'\u001b[39m\u001b[38;5;124mquality_report\u001b[39m\u001b[38;5;124m'\u001b[39m])\n",
      "\u001b[1;31mTypeError\u001b[0m: filter_and_analyze_dataset() got an unexpected keyword argument 'min_unique_ratio'"
     ]
    }
   ],
   "source": [
    "# Configuration des paramètres\n",
    "params = {\n",
    "    'max_categories': 30,\n",
    "    'min_unique_ratio': 0.01,\n",
    "    'missing_threshold': 0.5,\n",
    "    'correlation_threshold': 0.7,\n",
    "    'rare_threshold': 0.01,\n",
    "    'verbose': True  # Pour afficher tous les détails\n",
    "}\n",
    "\n",
    "# Application de la fonction\n",
    "df_filtered, analysis_report = filter_and_analyze_dataset(df, **params)\n",
    "\n",
    "# Visualisation des résultats essentiels\n",
    "plot_data_quality_dashboard(df_filtered, analysis_report['quality_report'])\n",
    "\n",
    "# Afficher un résumé des modifications\n",
    "print(\"\\nRésumé des modifications :\")\n",
    "print(f\"Dimensions initiales : {df.shape}\")\n",
    "print(f\"Dimensions finales : {df_filtered.shape}\")\n",
    "print(f\"\\nRéduction de la mémoire : {analysis_report['memory_usage']['reduction_percentage']:.2f}%\")\n",
    "\n",
    "# Afficher les colonnes restantes et leurs types\n",
    "print(\"\\nColonnes conservées :\")\n",
    "for col, dtype in df_filtered.dtypes.items():\n",
    "    print(f\"- {col}: {dtype}\")"
   ]
  }
 ],
 "metadata": {
  "kernelspec": {
   "display_name": "Python 3",
   "language": "python",
   "name": "python3"
  },
  "language_info": {
   "codemirror_mode": {
    "name": "ipython",
    "version": 3
   },
   "file_extension": ".py",
   "mimetype": "text/x-python",
   "name": "python",
   "nbconvert_exporter": "python",
   "pygments_lexer": "ipython3",
   "version": "3.13.1"
  }
 },
 "nbformat": 4,
 "nbformat_minor": 2
}
